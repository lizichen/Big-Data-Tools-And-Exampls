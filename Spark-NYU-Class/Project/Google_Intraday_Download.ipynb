{
 "cells": [
  {
   "cell_type": "code",
   "execution_count": null,
   "metadata": {
    "collapsed": true
   },
   "outputs": [],
   "source": [
    "import urllib,time,datetime\n",
    "import os,time\n",
    "\n",
    "class Quote(object):\n",
    "  DATE_FMT = '%Y-%m-%d'\n",
    "  TIME_FMT = '%H:%M:%S'\n",
    "  \n",
    "  def __init__(self):\n",
    "    self.symbol = ''\n",
    "    self.date,self.time,self.open_,self.high,self.low,self.close,self.volume = ([] for _ in range(7))\n",
    "\n",
    "  def append(self,dt,open_,high,low,close,volume):\n",
    "    self.date.append(dt.date())\n",
    "    self.time.append(dt.time())\n",
    "    self.open_.append(float(open_))\n",
    "    self.high.append(float(high))\n",
    "    self.low.append(float(low))\n",
    "    self.close.append(float(close))\n",
    "    self.volume.append(int(volume))\n",
    "      \n",
    "  def to_csv(self):\n",
    "    return ''.join([\"{0},{1},{2},{3:.2f},{4:.2f},{5:.2f},{6:.2f},{7}\\n\".format(self.symbol,\n",
    "              self.date[bar].strftime('%Y-%m-%d'),self.time[bar].strftime('%H:%M:%S'),\n",
    "              self.open_[bar],self.high[bar],self.low[bar],self.close[bar],self.volume[bar]) \n",
    "              for bar in xrange(len(self.close))])\n",
    "    \n",
    "  def write_csv(self,filename):\n",
    "    with open(filename,'w') as f:\n",
    "      f.write(self.to_csv())\n",
    "        \n",
    "  def read_csv(self,filename):\n",
    "    self.symbol = ''\n",
    "    self.date,self.time,self.open_,self.high,self.low,self.close,self.volume = ([] for _ in range(7))\n",
    "    for line in open(filename,'r'):\n",
    "      symbol,ds,ts,open_,high,low,close,volume = line.rstrip().split(',')\n",
    "      self.symbol = symbol\n",
    "      dt = datetime.datetime.strptime(ds+' '+ts,self.DATE_FMT+' '+self.TIME_FMT)\n",
    "      self.append(dt,open_,high,low,close,volume)\n",
    "    return True\n",
    "\n",
    "  def __repr__(self):\n",
    "    return self.to_csv()\n",
    "\n",
    "class GoogleIntradayQuote(Quote):\n",
    "  ''' Intraday quotes from Google. Specify interval seconds and number of days '''\n",
    "  def __init__(self,symbol,interval_seconds=300,num_days=5):\n",
    "    super(GoogleIntradayQuote,self).__init__()\n",
    "    self.symbol = symbol.upper()\n",
    "    url_string = \"http://www.google.com/finance/getprices?q={0}\".format(self.symbol)\n",
    "    url_string += \"&i={0}&p={1}d&f=d,o,h,l,c,v\".format(interval_seconds,num_days)\n",
    "        \n",
    "    csv = urllib.urlopen(url_string).readlines()\n",
    "    for bar in xrange(7,len(csv)):\n",
    "      if csv[bar].count(',')!=5:\n",
    "        continue\n",
    "        \n",
    "      offset,close,high,low,open_,volume = csv[bar].split(',')\n",
    "     \n",
    "      if offset[0]=='a':\n",
    "        day = float(offset[1:])\n",
    "        offset = 0\n",
    "      else:\n",
    "        offset = float(offset)\n",
    "    \n",
    "      open_,high,low,close = [float(x) for x in [open_,high,low,close]]\n",
    "      dt = datetime.datetime.fromtimestamp(day+(interval_seconds*offset))\n",
    "      self.append(dt,open_,high,low,close,volume)"
   ]
  },
  {
   "cell_type": "code",
   "execution_count": null,
   "metadata": {
    "collapsed": true
   },
   "outputs": [],
   "source": [
    "# Set system time to EST time zone\n",
    "os.environ['TZ'] = 'EST+05EDT,M4.1.0,M10.5.0'\n",
    "time.tzset()"
   ]
  },
  {
   "cell_type": "code",
   "execution_count": null,
   "metadata": {
    "collapsed": true
   },
   "outputs": [],
   "source": [
    "# Set scrapping time frame and data granularity level:\n",
    "interval_seconds = 60\n",
    "num_days = 10"
   ]
  },
  {
   "cell_type": "code",
   "execution_count": null,
   "metadata": {},
   "outputs": [],
   "source": [
    "# Start Scrapping every day after 4:00 PM on two different AWS EC2\n",
    "\n",
    "# To Avoid IP Blocking:\n",
    "pause_count = 500 # number of loops\n",
    "pause_counter = pause_count\n",
    "pause_duration = 3600 # sleep 60 minutes after 500 scraps\n",
    "\n",
    "# for exchange in ['nasdaq']:\n",
    "# for exchange in ['amex']:\n",
    "for exchange in ['nyse']:  \n",
    "    \n",
    "    ticker_source = open('Ticker_Only/correct_'+exchange+'.txt', 'r')\n",
    "\n",
    "    for ticker in ticker_source:\n",
    "        ticker = ticker.strip()\n",
    "        temp_file = open('Stock_Intraday_Data/'+exchange+'/'+ticker+'.csv','w')\n",
    "        retrieved_result = GoogleIntradayQuote(ticker, interval_seconds, num_days)\n",
    "        print ticker\n",
    "        temp_file.write(retrieved_result.to_csv())\n",
    "        temp_file.close()\n",
    "        \n",
    "        if pause_counter > 0:\n",
    "            pause_counter -= 1\n",
    "        else:\n",
    "            print 'Pause seconds: ' + str(pause_duration) + '...'\n",
    "            time.sleep(pause_duration)\n",
    "            print 'Resume Scrapping!'\n",
    "            pause_counter = pause_count\n",
    "            \n",
    "    print exchange + ' has done!'"
   ]
  },
  {
   "cell_type": "code",
   "execution_count": null,
   "metadata": {
    "collapsed": true
   },
   "outputs": [],
   "source": []
  }
 ],
 "metadata": {
  "kernelspec": {
   "display_name": "Python [conda env:python27_env]",
   "language": "python",
   "name": "conda-env-python27_env-py"
  },
  "language_info": {
   "codemirror_mode": {
    "name": "ipython",
    "version": 2
   },
   "file_extension": ".py",
   "mimetype": "text/x-python",
   "name": "python",
   "nbconvert_exporter": "python",
   "pygments_lexer": "ipython2",
   "version": "2.7.13"
  }
 },
 "nbformat": 4,
 "nbformat_minor": 2
}
