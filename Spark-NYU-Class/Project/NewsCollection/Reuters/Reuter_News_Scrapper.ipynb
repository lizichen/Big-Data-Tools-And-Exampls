{
 "cells": [
  {
   "cell_type": "code",
   "execution_count": 29,
   "metadata": {
    "collapsed": false
   },
   "outputs": [],
   "source": [
    "from bs4 import BeautifulSoup\n",
    "import urllib\n",
    "import csv\n",
    "import re\n",
    "from datetime import datetime, timedelta\n",
    "import time"
   ]
  },
  {
   "cell_type": "code",
   "execution_count": 30,
   "metadata": {
    "collapsed": false
   },
   "outputs": [],
   "source": [
    "def getNewsContent(htmlstring):\n",
    "    r = urllib.urlopen(htmlstring).read()\n",
    "    soup = BeautifulSoup(r)\n",
    "\n",
    "    dateTag = soup.find_all(\"div\", attrs={\"class\": re.compile(\"ArticleHeader_date.\")})\n",
    "    headerTag = soup.find_all(\"h1\", attrs={\"class\": re.compile(\"ArticleHeader_headline.\")})\n",
    "\n",
    "    date = dateTag[0].text\n",
    "    header = headerTag[0].text\n",
    "\n",
    "    articleTag = soup.find_all(\"div\", attrs={\"class\": re.compile(\"ArticleBody_body.\")})\n",
    "    article = articleTag[0].text\n",
    "\n",
    "    return date, header, article"
   ]
  },
  {
   "cell_type": "code",
   "execution_count": 39,
   "metadata": {
    "collapsed": false
   },
   "outputs": [],
   "source": [
    "def getUrlsFromArchiveByDate(date):\n",
    "    archivePageByDate = \"http://www.reuters.com/resources/archive/us/\"+date+\".html\"\n",
    "    page = urllib.urlopen(archivePageByDate).read()\n",
    "    soup = BeautifulSoup(page)\n",
    "\n",
    "    moduleBody = soup.find_all(\"div\", attrs={\"class\":\"headlineMed\"})\n",
    "\n",
    "    url_list = []\n",
    "\n",
    "    for i in range(len(moduleBody)):\n",
    "        url = moduleBody[i].a[\"href\"]\n",
    "        if (\"/news/picture/\" in url) or (\"/news/video/\" in url):\n",
    "            continue\n",
    "        else:\n",
    "            url_list.append(url)\n",
    "            \n",
    "    return url_list"
   ]
  },
  {
   "cell_type": "code",
   "execution_count": 32,
   "metadata": {
    "collapsed": false
   },
   "outputs": [],
   "source": [
    "def convertTimestamp(time_str):\n",
    "    time_str = \"JULY 12, 2017 / 1:18 PM / 10 HOURS AGO\"\n",
    "    time_arr = time_str.split(\" / \")\n",
    "    date = time_arr[0]\n",
    "    hr_mi = time_arr[1]\n",
    "\n",
    "    datetime_object = datetime.strptime(date+\" \"+hr_mi, '%B %d, %Y %I:%M %p')\n",
    "    adjusted_EST_time = datetime_object + timedelta(hours=4)\n",
    "    return str(adjusted_EST_time)"
   ]
  },
  {
   "cell_type": "code",
   "execution_count": 41,
   "metadata": {
    "collapsed": false
   },
   "outputs": [],
   "source": [
    "\n",
    "def getCsvFileByDate(date):\n",
    "    urls = getUrlsFromArchiveByDate(date)\n",
    "    count = 0\n",
    "    with open(date+\".csv\", \"wb\") as csv_file:\n",
    "            for url in urls:\n",
    "                try_count = 0\n",
    "                while True:\n",
    "                    try:\n",
    "                        time_web, title, article = getNewsContent(url)\n",
    "                        adjusted_time = convertTimestamp(time_web)\n",
    "                        line = \"\\\"\" + adjusted_time + \"\\\",\" + \"\\\"\" + title.encode(\"utf-8\") + \"\\\",\" + \"\\\"\" + article.encode(\"utf-8\").replace('\\\",\\\"', ' ').replace('\\n', ' ') + \"\\\",\"\n",
    "                        line.replace('\\n',' ').replace('\\r',' ').replace('\\t',' ')\n",
    "                        csv_file.write(line)\n",
    "                        csv_file.write('\\n')\n",
    "                        count += 1\n",
    "                        break\n",
    "                    except:\n",
    "                        print(\"Something wrong happened! try_count = \"+str(try_count))\n",
    "                        if try_count <= 4:\n",
    "                            time.sleep(10)\n",
    "                            try_count += 1\n",
    "                        else:\n",
    "                            print(\"URL Does Not Work! \"+url)\n",
    "                            break\n",
    "    print(count)"
   ]
  },
  {
   "cell_type": "code",
   "execution_count": null,
   "metadata": {
    "collapsed": true
   },
   "outputs": [],
   "source": [
    "date = \"20170712\""
   ]
  }
 ],
 "metadata": {
  "anaconda-cloud": {},
  "kernelspec": {
   "display_name": "Python [default]",
   "language": "python",
   "name": "python2"
  },
  "language_info": {
   "codemirror_mode": {
    "name": "ipython",
    "version": 2
   },
   "file_extension": ".py",
   "mimetype": "text/x-python",
   "name": "python",
   "nbconvert_exporter": "python",
   "pygments_lexer": "ipython2",
   "version": "2.7.12"
  }
 },
 "nbformat": 4,
 "nbformat_minor": 1
}
