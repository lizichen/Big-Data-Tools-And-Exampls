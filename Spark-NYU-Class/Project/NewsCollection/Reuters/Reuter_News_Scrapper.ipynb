{
 "cells": [
  {
   "cell_type": "code",
<<<<<<< HEAD
   "execution_count": 1,
   "metadata": {},
=======
   "execution_count": 2,
   "metadata": {
    "collapsed": false
   },
>>>>>>> 3d6d80187ee5703ef6f3c12e97adcf96f2541dd0
   "outputs": [],
   "source": [
    "from bs4 import BeautifulSoup\n",
    "import urllib\n",
    "import csv\n",
    "import re\n",
    "from datetime import datetime, timedelta\n",
    "import time"
   ]
  },
  {
   "cell_type": "code",
<<<<<<< HEAD
   "execution_count": 2,
   "metadata": {},
=======
   "execution_count": 3,
   "metadata": {
    "collapsed": false
   },
>>>>>>> 3d6d80187ee5703ef6f3c12e97adcf96f2541dd0
   "outputs": [],
   "source": [
    "def getNewsContent(htmlstring):\n",
    "    r = urllib.urlopen(htmlstring).read()\n",
    "    soup = BeautifulSoup(r)\n",
    "\n",
    "    dateTag = soup.find_all(\"div\", attrs={\"class\": re.compile(\"ArticleHeader_date.\")})\n",
    "    headerTag = soup.find_all(\"h1\", attrs={\"class\": re.compile(\"ArticleHeader_headline.\")})\n",
    "\n",
    "    date = dateTag[0].text\n",
    "    header = headerTag[0].text\n",
    "\n",
    "    articleTag = soup.find_all(\"div\", attrs={\"class\": re.compile(\"ArticleBody_body.\")})\n",
    "    article = articleTag[0].text\n",
    "\n",
    "    return date, header, article"
   ]
  },
  {
   "cell_type": "code",
<<<<<<< HEAD
   "execution_count": 3,
   "metadata": {},
=======
   "execution_count": 4,
   "metadata": {
    "collapsed": false
   },
>>>>>>> 3d6d80187ee5703ef6f3c12e97adcf96f2541dd0
   "outputs": [],
   "source": [
    "def getUrlsFromArchiveByDate(date):\n",
    "    archivePageByDate = \"http://www.reuters.com/resources/archive/us/\"+date+\".html\"\n",
    "    page = urllib.urlopen(archivePageByDate).read()\n",
    "    soup = BeautifulSoup(page)\n",
    "\n",
    "    moduleBody = soup.find_all(\"div\", attrs={\"class\":\"headlineMed\"})\n",
    "\n",
    "    url_list = []\n",
    "\n",
    "    for i in range(len(moduleBody)):\n",
    "        url = moduleBody[i].a[\"href\"]\n",
<<<<<<< HEAD
    "        if (\"/news/picture/\" in url) or (\"/news/video/\" in url) or (\"/pictures-report\" in url) or (\"/article/life-\" in url):\n",
=======
    "        if (\"/news/picture/\" in url) or (\"/news/video/\" in url) or (\"article/pictures-report\" in url):\n",
>>>>>>> 3d6d80187ee5703ef6f3c12e97adcf96f2541dd0
    "            continue\n",
    "        else:\n",
    "            url_list.append(url)\n",
    "            \n",
    "    return url_list"
   ]
  },
  {
   "cell_type": "code",
<<<<<<< HEAD
   "execution_count": 4,
   "metadata": {},
=======
   "execution_count": 5,
   "metadata": {
    "collapsed": false
   },
>>>>>>> 3d6d80187ee5703ef6f3c12e97adcf96f2541dd0
   "outputs": [],
   "source": [
    "def convertTimestamp(time_str):\n",
    "    time_arr = time_str.split(\" / \")\n",
    "    date = time_arr[0]\n",
    "    hr_mi = time_arr[1]\n",
    "\n",
    "    datetime_object = datetime.strptime(date+\" \"+hr_mi, '%B %d, %Y %I:%M %p')\n",
    "    adjusted_EST_time = datetime_object + timedelta(hours=4)\n",
    "    return str(adjusted_EST_time)"
   ]
  },
  {
   "cell_type": "code",
<<<<<<< HEAD
   "execution_count": 41,
   "metadata": {},
=======
   "execution_count": 6,
   "metadata": {
    "collapsed": false
   },
>>>>>>> 3d6d80187ee5703ef6f3c12e97adcf96f2541dd0
   "outputs": [],
   "source": [
    "def getCsvFileByDate(date):\n",
    "    urls = getUrlsFromArchiveByDate(date)\n",
    "    count = 0\n",
    "    with open(date+\".csv\", \"wb\") as csv_file:\n",
    "            for url in urls:\n",
    "                try_count = 0\n",
    "                while True:\n",
    "                    try:\n",
    "                        time_web, title, article = getNewsContent(url)\n",
    "                        adjusted_time = convertTimestamp(time_web)\n",
    "                        print(adjusted_time)\n",
    "                        line = \"\\\"\" + adjusted_time + \"\\\",\" + \"\\\"\" + title.encode(\"utf-8\") + \"\\\",\" + \"\\\"\" + article.encode(\"utf-8\").replace('\\\",\\\"', ' ').replace('\\n', ' ') + \"\\\",\"\n",
    "                        line.replace('\\n',' ').replace('\\r',' ').replace('\\t',' ')\n",
    "                        csv_file.write(line)\n",
    "                        csv_file.write('\\n')\n",
    "                        count += 1\n",
    "                        print(\"Finished \"+str(count)+\" - \"+url)\n",
    "                        break\n",
    "                    except:\n",
    "                        print(\"Something wrong happened! try_count = \"+str(try_count))\n",
    "                        if try_count <= 2:\n",
    "                            time.sleep(15)\n",
    "                            try_count += 1\n",
    "                        else:\n",
    "                            print(\"URL Does Not Work! \"+url)\n",
    "                            break\n",
    "    print(count)"
   ]
  },
  {
   "cell_type": "code",
   "execution_count": 12,
   "metadata": {},
   "outputs": [],
   "source": [
    "# # date = \"20170712\" has done!\n",
    "dates = [\"20170711\",\"20170710\",\"20170709\",\"20170708\",\"20170707\",\"20170706\",\"20170705\",\"20170704\",\"20170703\",\"20170702\",\"20170701\",\"20170630\",\"20170629\",\"20170628\",\"20170627\",\"20170626\",\"20170625\",\"20170624\",\"20170623\",\"20170622\",\"20170621\",\"20170620\",\"20170619\",\"20170618\",\"20170617\",\"20170616\",\"20170615\",\"20170614\",\"20170613\",\"20170612\",\"20170611\",\"20170610\",\"20170609\",\"20170608\"]\n",
    "for date in dates:\n",
    "    getCsvFileByDate(date)"
   ]
  },
  {
   "cell_type": "code",
   "execution_count": null,
   "metadata": {
    "collapsed": false
   },
<<<<<<< HEAD
=======
   "outputs": [
    {
     "name": "stderr",
     "output_type": "stream",
     "text": [
      "/Users/lizichen1/anaconda/lib/python2.7/site-packages/bs4/__init__.py:181: UserWarning: No parser was explicitly specified, so I'm using the best available HTML parser for this system (\"lxml\"). This usually isn't a problem, but if you run this code on another system, or in a different virtual environment, it may use a different parser and behave differently.\n",
      "\n",
      "The code that caused this warning is on line 174 of the file /Users/lizichen1/anaconda/lib/python2.7/runpy.py. To get rid of this warning, change code that looks like this:\n",
      "\n",
      " BeautifulSoup([your markup])\n",
      "\n",
      "to this:\n",
      "\n",
      " BeautifulSoup([your markup], \"lxml\")\n",
      "\n",
      "  markup_type=markup_type))\n"
     ]
    },
    {
     "name": "stdout",
     "output_type": "stream",
     "text": [
      "2017-07-12 17:18:00\n",
      "Finished 1 - http://www.reuters.com/article/brief-gulf-hotels-oman-h1-profit-falls-idUSFWN1K20O6\n",
      "2017-07-12 17:18:00\n",
      "Finished 2 - http://www.reuters.com/article/brief-guangdong-zhengye-technology-sees-idUSL4N1K31PZ\n",
      "2017-07-12 17:18:00\n",
      "Finished 3 - http://www.reuters.com/article/us-china-business-survey-idUSKBN19X0BK\n",
      "2017-07-12 17:18:00\n",
      "Finished 4 - http://www.reuters.com/article/brief-camlin-fine-sciences-says-co-italy-idUSFWN1K20LZ\n",
      "2017-07-12 17:18:00\n",
      "Finished 5 - http://www.reuters.com/article/brief-huaan-securities-says-2016-a-share-idUSL4N1K21RZ\n",
      "2017-07-12 17:18:00\n",
      "Finished 6 - http://www.reuters.com/article/brief-songz-automobile-air-conditioning-idUSL4N1K31PM\n",
      "2017-07-12 17:18:00\n",
      "Finished 7 - http://www.reuters.com/article/brief-winall-hi-tech-seed-to-pay-fy-idUSL4N1K31P1\n",
      "2017-07-12 17:18:00\n",
      "Finished 8 - http://www.reuters.com/article/global-metals-idUSL4N1K31HK\n",
      "2017-07-12 17:18:00\n",
      "Finished 9 - http://www.reuters.com/article/brief-mcc-meili-cloud-computing-industry-idUSL4N1K31OL\n",
      "2017-07-12 17:18:00\n",
      "Finished 10 - http://www.reuters.com/article/brief-netac-technology-sees-2017-h1-net-idUSL4N1K31OG\n",
      "2017-07-12 17:18:00\n",
      "Finished 11 - http://www.reuters.com/article/gca-services-group-ma-abm-industries-idUSL4N1K31M4\n",
      "2017-07-12 17:18:00\n",
      "Finished 12 - http://www.reuters.com/article/brief-tangshan-jidong-equipment-engineer-idUSL4N1K31NL\n",
      "2017-07-12 17:18:00\n",
      "Finished 13 - http://www.reuters.com/article/brief-ceres-says-business-and-capital-al-idUSL4N1K31NA\n",
      "2017-07-12 17:18:00\n",
      "Finished 14 - http://www.reuters.com/article/india-morningcall-idUSL4N1K31M1\n",
      "2017-07-12 17:18:00\n",
      "Finished 15 - http://www.reuters.com/article/us-texas-execution-idUSKBN19X0AW\n",
      "2017-07-12 17:18:00\n",
      "Finished 16 - http://www.reuters.com/article/mideast-factors-idUSL8N1K304B\n",
      "2017-07-12 17:18:00\n",
      "Finished 17 - http://www.reuters.com/article/brief-hunan-investment-group-sees-h1-fy-idUSL4N1K31LY\n",
      "Something wrong happened! try_count = 0\n",
      "2017-07-12 17:18:00\n",
      "Finished 18 - http://www.reuters.com/article/table-invesco-office-j-reit-6-mth-foreca-idUSL4N1K31LN\n",
      "2017-07-12 17:18:00\n",
      "Finished 19 - http://www.reuters.com/article/australia-stocks-midday-idUSL4N1K31HL\n",
      "2017-07-12 17:18:00\n",
      "Finished 20 - http://www.reuters.com/article/brief-dongguan-winnerway-industrial-zone-idUSL4N1K31LC\n",
      "2017-07-12 17:18:00\n",
      "Finished 21 - http://www.reuters.com/article/us-zimbabwe-solar-business-idUSKBN19X0A4\n",
      "2017-07-12 17:18:00\n",
      "Finished 22 - http://www.reuters.com/article/brief-enjoyor-issues-2017-1st-tranche-sh-idUSL4N1K31KJ\n",
      "2017-07-12 17:18:00\n",
      "Finished 23 - http://www.reuters.com/article/us-takata-recall-idUSKBN19W22H\n",
      "2017-07-12 17:18:00\n",
      "Finished 24 - http://www.reuters.com/article/us-aid-blockchain-idUSKBN19X0A1\n",
      "2017-07-12 17:18:00\n",
      "Finished 25 - http://www.reuters.com/article/us-europe-migrants-sophia-idUSKBN19X09Y\n",
      "2017-07-12 17:18:00\n",
      "Finished 26 - http://www.reuters.com/article/us-un-climatechange-resilience-idUSKBN19X09W\n",
      "2017-07-12 17:18:00\n",
      "Finished 27 - http://www.reuters.com/article/brief-zhongbai-holdings-group-to-swing-t-idUSL4N1K31KD\n",
      "2017-07-12 17:18:00\n",
      "Finished 28 - http://www.reuters.com/article/us-nepal-women-solar-idUSKBN19X09S\n",
      "2017-07-12 17:18:00\n",
      "Finished 29 - http://www.reuters.com/article/us-toshiba-accounting-idUSKBN19W0X3\n",
      "2017-07-12 17:18:00\n",
      "Finished 30 - http://www.reuters.com/article/us-britain-london-growth-idUSKBN19X09O\n",
      "2017-07-12 17:18:00\n",
      "Finished 31 - http://www.reuters.com/article/us-india-lgbt-books-idUSKBN19X09K\n",
      "2017-07-12 17:18:00\n",
      "Finished 32 - http://www.reuters.com/article/energy-refinery-idUSL4N1K31JT\n",
      "2017-07-12 17:18:00\n",
      "Finished 33 - http://www.reuters.com/article/japan-stocks-midday-idUSL4N1K31GV\n",
      "2017-07-12 17:18:00\n",
      "Finished 34 - http://www.reuters.com/article/brief-xiamen-changelight-to-swing-to-pro-idUSL4N1K31JB\n",
      "2017-07-12 17:18:00\n",
      "Finished 35 - http://www.reuters.com/article/us-usa-interior-monuments-idUSKBN19W2H6\n",
      "Something wrong happened! try_count = 0\n"
     ]
    }
   ],
   "source": [
    "date = \"20170712\"\n",
    "getCsvFileByDate(date)"
   ]
  },
  {
   "cell_type": "code",
   "execution_count": null,
   "metadata": {
    "collapsed": true
   },
>>>>>>> 3d6d80187ee5703ef6f3c12e97adcf96f2541dd0
   "outputs": [],
   "source": []
  }
 ],
 "metadata": {
  "anaconda-cloud": {},
  "kernelspec": {
   "display_name": "Python 3",
   "language": "python",
   "name": "python3"
  },
  "language_info": {
   "codemirror_mode": {
    "name": "ipython",
    "version": 3
   },
   "file_extension": ".py",
   "mimetype": "text/x-python",
   "name": "python",
   "nbconvert_exporter": "python",
   "pygments_lexer": "ipython3",
   "version": "3.6.1"
  }
 },
 "nbformat": 4,
 "nbformat_minor": 1
}
