{
 "cells": [
  {
   "cell_type": "code",
   "execution_count": 1,
   "metadata": {},
   "outputs": [],
   "source": [
    "from bs4 import BeautifulSoup\n",
    "import urllib\n",
    "import csv\n",
    "import re\n",
    "from datetime import datetime, timedelta\n",
    "import time"
   ]
  },
  {
   "cell_type": "code",
   "execution_count": 2,
   "metadata": {},
   "outputs": [],
   "source": [
    "def getNewsContent(htmlstring):\n",
    "    r = urllib.urlopen(htmlstring).read()\n",
    "    soup = BeautifulSoup(r)\n",
    "\n",
    "    dateTag = soup.find_all(\"div\", attrs={\"class\": re.compile(\"ArticleHeader_date.\")})\n",
    "    headerTag = soup.find_all(\"h1\", attrs={\"class\": re.compile(\"ArticleHeader_headline.\")})\n",
    "\n",
    "    date = dateTag[0].text\n",
    "    header = headerTag[0].text\n",
    "\n",
    "    articleTag = soup.find_all(\"div\", attrs={\"class\": re.compile(\"ArticleBody_body.\")})\n",
    "    article = articleTag[0].text\n",
    "\n",
    "    return date, header, article"
   ]
  },
  {
   "cell_type": "code",
   "execution_count": 3,
   "metadata": {},
   "outputs": [],
   "source": [
    "def getUrlsFromArchiveByDate(date):\n",
    "    archivePageByDate = \"http://www.reuters.com/resources/archive/us/\"+date+\".html\"\n",
    "    page = urllib.urlopen(archivePageByDate).read()\n",
    "    soup = BeautifulSoup(page)\n",
    "\n",
    "    moduleBody = soup.find_all(\"div\", attrs={\"class\":\"headlineMed\"})\n",
    "\n",
    "    url_list = []\n",
    "\n",
    "    for i in range(len(moduleBody)):\n",
    "        url = moduleBody[i].a[\"href\"]\n",
    "        if (\"/news/picture/\" in url) or (\"/news/video/\" in url) or (\"/pictures-report\" in url) or (\"/article/life-\" in url):\n",
    "            continue\n",
    "        else:\n",
    "            url_list.append(url)\n",
    "            \n",
    "    return url_list"
   ]
  },
  {
   "cell_type": "code",
   "execution_count": 4,
   "metadata": {},
   "outputs": [],
   "source": [
    "def convertTimestamp(time_str):\n",
    "    time_str = \"JULY 12, 2017 / 1:18 PM / 10 HOURS AGO\"\n",
    "    time_arr = time_str.split(\" / \")\n",
    "    date = time_arr[0]\n",
    "    hr_mi = time_arr[1]\n",
    "\n",
    "    datetime_object = datetime.strptime(date+\" \"+hr_mi, '%B %d, %Y %I:%M %p')\n",
    "    adjusted_EST_time = datetime_object + timedelta(hours=4)\n",
    "    return str(adjusted_EST_time)"
   ]
  },
  {
   "cell_type": "code",
   "execution_count": 41,
   "metadata": {},
   "outputs": [],
   "source": [
    "def getCsvFileByDate(date):\n",
    "    urls = getUrlsFromArchiveByDate(date)\n",
    "    count = 0\n",
    "    with open(date+\".csv\", \"wb\") as csv_file:\n",
    "            for url in urls:\n",
    "                try_count = 0\n",
    "                while True:\n",
    "                    try:\n",
    "                        time_web, title, article = getNewsContent(url)\n",
    "                        adjusted_time = convertTimestamp(time_web)\n",
    "                        line = \"\\\"\" + adjusted_time + \"\\\",\" + \"\\\"\" + title.encode(\"utf-8\") + \"\\\",\" + \"\\\"\" + article.encode(\"utf-8\").replace('\\\",\\\"', ' ').replace('\\n', ' ') + \"\\\",\"\n",
    "                        line.replace('\\n',' ').replace('\\r',' ').replace('\\t',' ')\n",
    "                        csv_file.write(line)\n",
    "                        csv_file.write('\\n')\n",
    "                        count += 1\n",
    "                        break\n",
    "                    except:\n",
    "                        print(\"Something wrong happened! try_count = \"+str(try_count))\n",
    "                        if try_count <= 2:\n",
    "                            time.sleep(15)\n",
    "                            try_count += 1\n",
    "                        else:\n",
    "                            print(\"URL Does Not Work! \"+url)\n",
    "                            break\n",
    "    print(count)"
   ]
  },
  {
   "cell_type": "code",
   "execution_count": 12,
   "metadata": {},
   "outputs": [],
   "source": [
    "# # date = \"20170712\" has done!\n",
    "dates = [\"20170711\",\"20170710\",\"20170709\",\"20170708\",\"20170707\",\"20170706\",\"20170705\",\"20170704\",\"20170703\",\"20170702\",\"20170701\",\"20170630\",\"20170629\",\"20170628\",\"20170627\",\"20170626\",\"20170625\",\"20170624\",\"20170623\",\"20170622\",\"20170621\",\"20170620\",\"20170619\",\"20170618\",\"20170617\",\"20170616\",\"20170615\",\"20170614\",\"20170613\",\"20170612\",\"20170611\",\"20170610\",\"20170609\",\"20170608\"]\n",
    "for date in dates:\n",
    "    getCsvFileByDate(date)"
   ]
  },
  {
   "cell_type": "code",
   "execution_count": null,
   "metadata": {
    "collapsed": true
   },
   "outputs": [],
   "source": []
  }
 ],
 "metadata": {
  "anaconda-cloud": {},
  "kernelspec": {
   "display_name": "Python 3",
   "language": "python",
   "name": "python3"
  },
  "language_info": {
   "codemirror_mode": {
    "name": "ipython",
    "version": 3
   },
   "file_extension": ".py",
   "mimetype": "text/x-python",
   "name": "python",
   "nbconvert_exporter": "python",
   "pygments_lexer": "ipython3",
   "version": "3.6.1"
  }
 },
 "nbformat": 4,
 "nbformat_minor": 1
}
