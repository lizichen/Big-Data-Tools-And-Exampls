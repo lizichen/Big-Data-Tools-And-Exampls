{
 "cells": [
  {
   "cell_type": "code",
   "execution_count": null,
   "metadata": {},
   "outputs": [],
   "source": [
    "# python 2.7\n",
    "for exchange in ['nyse', 'nasdaq', 'amex']:\n",
    "\n",
    "    f = open('correct_'+exchange+'.txt', 'w')\n",
    "\n",
    "    with open('Ticker_Only/'+exchange+'_symbols') as in_file:\n",
    "        for sym in in_file:\n",
    "            sym = sym[1:-2].strip()\n",
    "            if '^' in sym:\n",
    "                print sym\n",
    "                continue\n",
    "            else:\n",
    "                f.write(sym)\n",
    "            f.write('\\n')\n",
    "\n",
    "        f.close()\n",
    "    in_file.close()"
   ]
  },
  {
   "cell_type": "code",
   "execution_count": null,
   "metadata": {
    "collapsed": true
   },
   "outputs": [],
   "source": []
  }
 ],
 "metadata": {
  "kernelspec": {
   "display_name": "Python [conda env:python27_env]",
   "language": "python",
   "name": "conda-env-python27_env-py"
  },
  "language_info": {
   "codemirror_mode": {
    "name": "ipython",
    "version": 2
   },
   "file_extension": ".py",
   "mimetype": "text/x-python",
   "name": "python",
   "nbconvert_exporter": "python",
   "pygments_lexer": "ipython2",
   "version": "2.7.13"
  }
 },
 "nbformat": 4,
 "nbformat_minor": 2
}
